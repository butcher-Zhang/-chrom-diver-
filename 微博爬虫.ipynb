{
 "cells": [
  {
   "cell_type": "code",
   "execution_count": null,
   "metadata": {},
   "outputs": [],
   "source": [
    "from selenium import webdriver\n",
    "import csv\n",
    "import time\n",
    "import random\n",
    "import hashlib\n",
    "\n",
    "def csv_writer(item):#写入函数\n",
    "    with open('新浪.csv','a',newline='')as f:\n",
    "        writer = csv.writer(f)#writer调用了cvs里面的写入函数\n",
    "        try:\n",
    "            writer.writerow(item)\n",
    "        except Exception as e:\n",
    "            print('保存错误:',e)\n",
    "        print('正在保存。。。')\n",
    "\n",
    "def login():#自动登陆函数\n",
    "    driver.get('https://www.weibo.com')#使用Chorme浏览器的driver 建立虚拟浏览器访问\n",
    "    time.sleep(random.randint(5,8))#访问后等待页面的载入\n",
    "    username = driver.find_element_by_id('loginname')#找到输入用户名的一栏\n",
    "    username.send_keys('13225221072')#通过sand.keys把用户名输入\n",
    "    password = driver.find_element_by_name('password')#找到输入密码的一栏\n",
    "    password.send_keys('zhy12345')#同理输入密码\n",
    "    submit = driver.find_element_by_xpath('//*[@id=\"pl_login_form\"]/div/div[3]/div[6]/a')#找到登陆按钮\n",
    "    submit.click()#点击登陆按钮\n",
    "    time.sleep(15)\n",
    "\n",
    "def spider():#定义爬虫函数\n",
    "    driver.get('https://www.weibo.com')\n",
    "    time.sleep(random.randint(2,5))\n",
    "    all_weibo = driver.find_elements_by_xpath('//*[@class=\"WB_text W_f14\"]')#找到微博文章的共同路径\n",
    "    for weibo in all_weibo:\n",
    "        text_write(weibo.text)#通过函数写入内容\n",
    "\n",
    "def text_write(item):#去重并且将内容写入文档\n",
    "    md5 = hashlib.md5()#初始化一个哈希表\n",
    "    md5.update(item.encode('utf-8'))#将爬取到的一条微博进行编码\n",
    "    weibo_md5 = md5.hexdigest()#将编码与微博对应\n",
    "    if weibo_md5 not in only_weibo:#如果不在已经爬取到的列表中则写入\n",
    "        with open('微博.text','a',encoding='utf-8')as f:\n",
    "            f.write(item +'\\n')\n",
    "        only_weibo.update(weibo_md5)#将得到的新的一篇微博的编码放入列表当中\n",
    "\n",
    "if __name__==\"__main__\":\n",
    "    driver = webdriver.Chrome('d:/slm/chromedriver.exe')\n",
    "    login()\n",
    "    only_weibo = set()\n",
    "    while True:\n",
    "        spider()\n",
    "        time.sleep(random.randint(60,80))"
   ]
  },
  {
   "cell_type": "code",
   "execution_count": null,
   "metadata": {},
   "outputs": [],
   "source": []
  }
 ],
 "metadata": {
  "kernelspec": {
   "display_name": "Python 3",
   "language": "python",
   "name": "python3"
  },
  "language_info": {
   "codemirror_mode": {
    "name": "ipython",
    "version": 3
   },
   "file_extension": ".py",
   "mimetype": "text/x-python",
   "name": "python",
   "nbconvert_exporter": "python",
   "pygments_lexer": "ipython3",
   "version": "3.7.0"
  }
 },
 "nbformat": 4,
 "nbformat_minor": 4
}
